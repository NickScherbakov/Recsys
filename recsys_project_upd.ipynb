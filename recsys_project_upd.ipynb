{
    "cells": [
        {
            "cell_type": "markdown",
            "id": "8c9daa20-4463-4c29-86d7-e8b55a836d6a",
            "metadata": {
                "nbgrader": {
                    "grade": false,
                    "grade_id": "cell-11e06e57608fe1f3",
                    "locked": true,
                    "schema_version": 3,
                    "solution": false,
                    "task": false
                }
            },
            "source": [
                "# Проект по курсу \\\"Рекомендательные системы\\\"\n",
                "  \n",
                "Правила заполнения ноутбуков на авто-проверку:\n",
                "- повторить окружение преподавателя\n",
                "Python 3.13.0\n",
                "```bash\n",
                "pip install implicit==0.7.2 \"rectools[all]==0.17.0\" pandas==2.3.3 numpy==2.3.3 scipy==1.16.2  requests==2.32.5 catboost==1.2.8 scikit-learn==1.7.2\n",
                "```\n",
                "- все решение должно полностью помещаться в функцию solution(смотри пример). Если вы хотите реализовать дополнительные функции - поместите их в область видимости soluition. Нельзя использовать дополнительные файлы.\n",
                "- не добавлять новые импорты и не использовать дополнительные библиотеки. В противном случае ноутбук не пройдёт проверку и получит `0` баллов\n",
                "- не добавлять аргументов в solution\n",
                "- писать код только между # CODE BEGIN и # CODE END\n",
                "- не менять код преподавателя\n",
                "- не добавлять новые ячейки\n",
                "- следить, чтобы не было warning - они автоматом фейлят задание\n",
                "- перед сдачей проверить, что весь ноутбук прогоняется от начала до конца и все тесты проходят\n",
                "- data_path должен браться из переменной окружения как в коде ниже\n",
                "- Код должен выполняться за разумное время - ограничение 20 мин на 4 CPU и 16 Gb RAM без GPU. Не нужно ставить огромное количество эпох.\n",
                "- Постарайтесь максимально зафиксировать сиды, чтобы не было сюрпризов во время автоматической проверки. В случае, если решение выдает разное качество при разных запусках, то в зачет идет то значение, которое получилось при автоматической проверке.\n",
                "\n",
                "\n",
                "В данном проекте вам возможно захочется подбирать гипер-параметры моделей. Писать код для подбора гипер-параметров, использовать optuna и т.п. рекомендуем в отдельном ноутбуке.\n",
                "\n",
                "Библиотеки implicit и lightfm не фиксируют random state при num_threads > 1. Если результат работы модели не сильно превышает  необходимый порог и рандом может опустить его ниже требуемого уровня, рекомендуем продолжить повышение качества модели: тюнинг гипер-параметров, подбор фичей, подбор метода обработки датасета"
            ]
        },
        {
            "cell_type": "markdown",
            "id": "e77c2daf",
            "metadata": {},
            "source": [
                "# Задание"
            ]
        },
        {
            "cell_type": "markdown",
            "id": "5661b22c",
            "metadata": {},
            "source": [
                "Вам предлагается реализовать рекомендательную систему для фильмов KION.\n",
                "Решение должно быть полностью упаковано в функцию solution. Качество будет проверяться с помощью метрики MAP@10 на отложенной неделе. Итоговый бал определеятся функцией scorer - вы можете посмотреть его сразу, но если модель не подразумевает фиксирование random state, то после прогона автоматической системой результат может немного отличаться.\n",
                "\n",
                "В качестве примера реализована базовая рекомендательная система на основе ease. Ваша задача - улучшить эту систему.\n",
                "\n",
                "Чтобы решение отрабатывало быстрее будем использовать 10% от общего числа пользователей.\n",
                "\n",
                "В случае, если в вашем решении будет найден Hardcode элементов тестового датафрейма - работа будет аннулирована.\n",
                "\n",
                "Напоминаю, что для зачета по курсу нужно набрать в сумме с доп баллами и первым дз 60 баллов.\n",
                "\n",
                "Успехов!"
            ]
        },
        {
            "cell_type": "markdown",
            "id": "34c3166e",
            "metadata": {},
            "source": [
                "Подсказки:\n",
                "- Можно посмотреть документацию rectools\n",
                "- Можно поссмотреть ноутбуки с семинаров и предыдущую версию проекта\n",
                "- Не стесняйтесь добавлять фичи в ранжирование\n",
                "- Скорее всего вам понадобятся как отбор кандидатов, так и ранжирование"
            ]
        },
        {
            "cell_type": "markdown",
            "id": "4d49cde7-2156-468a-b3e2-e8467e241cf8",
            "metadata": {
                "nbgrader": {
                    "grade": false,
                    "grade_id": "cell-1891eaa3c13c8609",
                    "locked": true,
                    "schema_version": 3,
                    "solution": false,
                    "task": false
                }
            },
            "source": [
                "## Импорты и данные"
            ]
        },
        {
            "cell_type": "code",
            "execution_count": 10,
            "id": "724a1ce6-1a8d-4f7a-95df-17021d831dfc",
            "metadata": {
                "nbgrader": {
                    "grade": false,
                    "grade_id": "cell-6e865769efae1be6",
                    "locked": true,
                    "schema_version": 3,
                    "solution": false,
                    "task": false
                }
            },
            "outputs": [
                {
                    "name": "stdout",
                    "output_type": "stream",
                    "text": [
                        "Python 3.13.0\n"
                    ]
                }
            ],
            "source": [
                "!python -V"
            ]
        },
        {
            "cell_type": "code",
            "execution_count": 1,
            "id": "b118efea-a833-402f-9048-562d79dcea42",
            "metadata": {
                "nbgrader": {
                    "grade": false,
                    "grade_id": "cell-49e3b781726cecc9",
                    "locked": true,
                    "schema_version": 3,
                    "solution": false,
                    "task": false
                }
            },
            "outputs": [
                {
                    "name": "stdout",
                    "output_type": "stream",
                    "text": [
                        "0.7.2\n",
                        "0.17.0\n",
                        "2.3.3\n",
                        "2.3.3\n",
                        "1.16.2\n",
                        "2.32.5\n",
                        "1.2.8\n",
                        "1.7.2\n"
                    ]
                }
            ],
            "source": [
                "# Убедитесь, что вы не добавляете новые импорты в ноутбук. Решение должно быть ограничено данными библиотеками\n",
                "import os\n",
                "os.environ[\"PYTORCH_ENABLE_MPS_FALLBACK\"] = \"1\"\n",
                "\n",
                "import warnings\n",
                "warnings.simplefilter(\"ignore\")\n",
                "\n",
                "import implicit\n",
                "import rectools\n",
                "import pandas as pd\n",
                "import numpy as np\n",
                "import scipy\n",
                "import requests\n",
                "import catboost\n",
                "import sklearn\n",
                "\n",
                "from rectools import models\n",
                "from rectools import dataset\n",
                "from rectools import metrics\n",
                "\n",
                "print(implicit.__version__)\n",
                "print(rectools.__version__)\n",
                "print(pd.__version__)\n",
                "print(np.__version__)\n",
                "print(scipy.__version__)\n",
                "print(requests.__version__)\n",
                "print(catboost.__version__)\n",
                "print(sklearn.__version__)"
            ]
        },
        {
            "cell_type": "code",
            "execution_count": 2,
            "id": "e3591f25-aedf-42b5-8b65-1f02e51d3020",
            "metadata": {
                "nbgrader": {
                    "grade": false,
                    "grade_id": "cell-1ebdc35957207757",
                    "locked": true,
                    "schema_version": 3,
                    "solution": false,
                    "task": false
                }
            },
            "outputs": [
                {
                    "data": {
                        "text/plain": [
                            "<threadpoolctl.threadpool_limits at 0x13b0a7e00>"
                        ]
                    },
                    "execution_count": 2,
                    "metadata": {},
                    "output_type": "execute_result"
                }
            ],
            "source": [
                "import os.path\n",
                "\n",
                "# For implicit ALS\n",
                "import threadpoolctl\n",
                "os.environ[\"OPENBLAS_NUM_THREADS\"] = \"1\"\n",
                "threadpoolctl.threadpool_limits(1, \"blas\")"
            ]
        },
        {
            "cell_type": "markdown",
            "id": "0265ea46-e840-452d-b43b-343cbb7eb160",
            "metadata": {
                "nbgrader": {
                    "grade": false,
                    "grade_id": "cell-42bc3babcb8ca15b",
                    "locked": true,
                    "schema_version": 3,
                    "solution": false,
                    "task": false
                }
            },
            "source": [
                "Если у вас нет данных, то используйте закомментированный код"
            ]
        },
        {
            "cell_type": "code",
            "execution_count": 3,
            "id": "f385743a-3642-4152-82bd-e4eca87130bd",
            "metadata": {},
            "outputs": [],
            "source": [
                "# from tqdm.auto import tqdm\n",
                "# import zipfile as zf\n",
                "\n",
                "# url = 'https://github.com/irsafilo/KION_DATASET/raw/f69775be31fa5779907cf0a92ddedb70037fb5ae/data_original.zip'\n",
                "\n",
                "# req = requests.get(url, stream=True)\n",
                "\n",
                "# with open('kion.zip', 'wb') as fd:\n",
                "#     total_size_in_bytes = int(req.headers.get('Content-Length', 0))\n",
                "#     progress_bar = tqdm(desc='kion dataset download', total=total_size_in_bytes, unit='iB', unit_scale=True)\n",
                "#     for chunk in req.iter_content(chunk_size=2 ** 20):\n",
                "#         progress_bar.update(len(chunk))\n",
                "#         fd.write(chunk)\n",
                "\n",
                "# files = zf.ZipFile('kion.zip', 'r')\n",
                "# files.extractall()\n",
                "# files.close()"
            ]
        },
        {
            "cell_type": "code",
            "execution_count": 4,
            "id": "2b128d75-5970-42c0-b89e-1d48c1688936",
            "metadata": {},
            "outputs": [],
            "source": [
                "data_path = os.environ.get(\"DATA_PATH\")\n",
                "if data_path is None:\n",
                "    data_path = \"data_original\"  # ваш путь к данным до папки data_original включительно (поменяйте при необходимости)"
            ]
        },
        {
            "cell_type": "code",
            "execution_count": 5,
            "id": "2e1b9888-cdc7-47a3-9162-a1ae7de7144e",
            "metadata": {
                "nbgrader": {
                    "grade": false,
                    "grade_id": "cell-a1b82be4e2c39f91",
                    "locked": true,
                    "schema_version": 3,
                    "solution": false,
                    "task": false
                }
            },
            "outputs": [
                {
                    "name": "stdout",
                    "output_type": "stream",
                    "text": [
                        "(440150, 5)\n"
                    ]
                },
                {
                    "data": {
                        "application/vnd.microsoft.datawrangler.viewer.v0+json": {
                            "columns": [
                                {
                                    "name": "index",
                                    "rawType": "int64",
                                    "type": "integer"
                                },
                                {
                                    "name": "user_id",
                                    "rawType": "int64",
                                    "type": "integer"
                                },
                                {
                                    "name": "item_id",
                                    "rawType": "int64",
                                    "type": "integer"
                                },
                                {
                                    "name": "datetime",
                                    "rawType": "datetime64[ns]",
                                    "type": "datetime"
                                },
                                {
                                    "name": "weight",
                                    "rawType": "int64",
                                    "type": "integer"
                                },
                                {
                                    "name": "watched_pct",
                                    "rawType": "float64",
                                    "type": "float"
                                }
                            ],
                            "ref": "9be7cc98-ae7e-4b27-8ecc-df6fe987c80c",
                            "rows": [
                                [
                                    "10",
                                    "791466",
                                    "8199",
                                    "2021-07-27 00:00:00",
                                    "713",
                                    "9.0"
                                ],
                                [
                                    "11",
                                    "988709",
                                    "7571",
                                    "2021-07-07 00:00:00",
                                    "6558",
                                    "100.0"
                                ],
                                [
                                    "18",
                                    "927973",
                                    "9617",
                                    "2021-06-19 00:00:00",
                                    "8422",
                                    "100.0"
                                ],
                                [
                                    "22",
                                    "505244",
                                    "15297",
                                    "2021-08-15 00:00:00",
                                    "15991",
                                    "63.0"
                                ],
                                [
                                    "28",
                                    "81786",
                                    "2616",
                                    "2021-07-24 00:00:00",
                                    "41422",
                                    "90.0"
                                ]
                            ],
                            "shape": {
                                "columns": 5,
                                "rows": 5
                            }
                        },
                        "text/html": [
                            "<div>\n",
                            "<style scoped>\n",
                            "    .dataframe tbody tr th:only-of-type {\n",
                            "        vertical-align: middle;\n",
                            "    }\n",
                            "\n",
                            "    .dataframe tbody tr th {\n",
                            "        vertical-align: top;\n",
                            "    }\n",
                            "\n",
                            "    .dataframe thead th {\n",
                            "        text-align: right;\n",
                            "    }\n",
                            "</style>\n",
                            "<table border=\"1\" class=\"dataframe\">\n",
                            "  <thead>\n",
                            "    <tr style=\"text-align: right;\">\n",
                            "      <th></th>\n",
                            "      <th>user_id</th>\n",
                            "      <th>item_id</th>\n",
                            "      <th>datetime</th>\n",
                            "      <th>weight</th>\n",
                            "      <th>watched_pct</th>\n",
                            "    </tr>\n",
                            "  </thead>\n",
                            "  <tbody>\n",
                            "    <tr>\n",
                            "      <th>10</th>\n",
                            "      <td>791466</td>\n",
                            "      <td>8199</td>\n",
                            "      <td>2021-07-27</td>\n",
                            "      <td>713</td>\n",
                            "      <td>9.0</td>\n",
                            "    </tr>\n",
                            "    <tr>\n",
                            "      <th>11</th>\n",
                            "      <td>988709</td>\n",
                            "      <td>7571</td>\n",
                            "      <td>2021-07-07</td>\n",
                            "      <td>6558</td>\n",
                            "      <td>100.0</td>\n",
                            "    </tr>\n",
                            "    <tr>\n",
                            "      <th>18</th>\n",
                            "      <td>927973</td>\n",
                            "      <td>9617</td>\n",
                            "      <td>2021-06-19</td>\n",
                            "      <td>8422</td>\n",
                            "      <td>100.0</td>\n",
                            "    </tr>\n",
                            "    <tr>\n",
                            "      <th>22</th>\n",
                            "      <td>505244</td>\n",
                            "      <td>15297</td>\n",
                            "      <td>2021-08-15</td>\n",
                            "      <td>15991</td>\n",
                            "      <td>63.0</td>\n",
                            "    </tr>\n",
                            "    <tr>\n",
                            "      <th>28</th>\n",
                            "      <td>81786</td>\n",
                            "      <td>2616</td>\n",
                            "      <td>2021-07-24</td>\n",
                            "      <td>41422</td>\n",
                            "      <td>90.0</td>\n",
                            "    </tr>\n",
                            "  </tbody>\n",
                            "</table>\n",
                            "</div>"
                        ],
                        "text/plain": [
                            "    user_id  item_id   datetime  weight  watched_pct\n",
                            "10   791466     8199 2021-07-27     713          9.0\n",
                            "11   988709     7571 2021-07-07    6558        100.0\n",
                            "18   927973     9617 2021-06-19    8422        100.0\n",
                            "22   505244    15297 2021-08-15   15991         63.0\n",
                            "28    81786     2616 2021-07-24   41422         90.0"
                        ]
                    },
                    "execution_count": 5,
                    "metadata": {},
                    "output_type": "execute_result"
                }
            ],
            "source": [
                "users = pd.read_csv(os.path.join(data_path, \"users.csv\"))\n",
                "items = pd.read_csv(os.path.join(data_path, \"items.csv\"))\n",
                "\n",
                "users = users.sample(frac=0.1, random_state=42)\n",
                "\n",
                "interactions = (\n",
                "    pd.read_csv(os.path.join(data_path, \"interactions.csv\"), parse_dates=[\"last_watch_dt\"])\n",
                "    .rename(columns={'total_dur': rectools.Columns.Weight,\n",
                "                     'last_watch_dt': rectools.Columns.Datetime})\n",
                ")\n",
                "\n",
                "\n",
                "interactions = interactions[interactions[\"user_id\"].isin(users[\"user_id\"])]\n",
                "\n",
                "\n",
                "print(interactions.shape)\n",
                "interactions.head(5)"
            ]
        },
        {
            "cell_type": "code",
            "execution_count": 6,
            "id": "ecfa3e3e-477e-449c-863f-83decd2a608f",
            "metadata": {
                "nbgrader": {
                    "grade": false,
                    "grade_id": "cell-457223d68ac460f6",
                    "locked": true,
                    "schema_version": 3,
                    "solution": false,
                    "task": false
                }
            },
            "outputs": [
                {
                    "name": "stdout",
                    "output_type": "stream",
                    "text": [
                        "24771\n",
                        "9099\n"
                    ]
                }
            ],
            "source": [
                "N_DAYS = 7\n",
                "\n",
                "max_date = interactions['datetime'].max()\n",
                "train = interactions[(interactions['datetime'] <= max_date - pd.Timedelta(days=N_DAYS))]\n",
                "test = interactions[(interactions['datetime'] > max_date - pd.Timedelta(days=N_DAYS))]\n",
                "\n",
                "catalog = train[rectools.Columns.Item].unique()\n",
                "\n",
                "test_users = test[rectools.Columns.User].unique()\n",
                "cold_users = set(test_users) - set(train[rectools.Columns.User])\n",
                "test.drop(test[test[rectools.Columns.User].isin(cold_users)].index, inplace=True)\n",
                "hot_users = test[rectools.Columns.User].unique()\n",
                "print(test.shape[0])\n",
                "print(test[rectools.Columns.User].nunique())\n",
                "\n",
                "def scorer(map: float):\n",
                "    print(f\"Ваш MAP: {map}\")\n",
                "    UPPER_BOUND = 0.089\n",
                "    LOWER_BOUND = 0.071\n",
                "    score = int(min(max( (map - LOWER_BOUND) / (UPPER_BOUND - LOWER_BOUND), 0), 1) * 80)\n",
                "    print(f\"Ваш итоговый балл: {score}\")\n",
                "    return score"
            ]
        },
        {
            "cell_type": "code",
            "execution_count": 7,
            "id": "5d2619d5",
            "metadata": {},
            "outputs": [],
            "source": [
                "def solution(train: pd.DataFrame, users: pd.DataFrame, items: pd.DataFrame):\n",
                "    #  CODE BEGIN\n",
                "    # ПОДХОД: ALS + CatBoost для улучшения рекомендаций\n",
                "    # 1. ALS (Alternating Least Squares) - генерация кандидатов через коллаборативную фильтрацию\n",
                "    # 2. Извлечение признаков из эмбеддингов ALS (dot product, cosine similarity, нормы)\n",
                "    # 3. CatBoost - обучение ранжировщика на позитивных/негативных примерах\n",
                "    # 4. Финальное ранжирование кандидатов для получения топ-10 рекомендаций\n",
                "    # Ожидаемое улучшение: MAP@10 с 0.033 до >0.071 (проходной балл)\n",
                "    \n",
                "    # Fix random seeds for reproducibility\n",
                "    np.random.seed(42)\n",
                "    \n",
                "    # Data preprocessing and user-item matrix creation\n",
                "    def preprocess_data(train_df):\n",
                "        # Create user and item ID mappings\n",
                "        user_ids = train_df['user_id'].unique()\n",
                "        item_ids = train_df['item_id'].unique()\n",
                "        \n",
                "        user2idx = {u: i for i, u in enumerate(user_ids)}\n",
                "        item2idx = {i: j for j, i in enumerate(item_ids)}\n",
                "        idx2user = {i: u for u, i in user2idx.items()}\n",
                "        idx2item = {j: i for i, j in item2idx.items()}\n",
                "        \n",
                "        # Add index columns\n",
                "        train_df = train_df.copy()\n",
                "        train_df['user_idx'] = train_df['user_id'].map(user2idx)\n",
                "        train_df['item_idx'] = train_df['item_id'].map(item2idx)\n",
                "        \n",
                "        # Build sparse interaction matrix using scipy.sparse.coo_matrix\n",
                "        # Use implicit feedback (1.0 for all interactions)\n",
                "        interaction_matrix = scipy.sparse.coo_matrix(\n",
                "            (np.ones(len(train_df), dtype=np.float32)),\n",
                "            (train_df['item_idx'].values, train_df['user_idx'].values),\n",
                "            shape=(len(item_ids), len(user_ids))\n",
                "        ).tocsr()\n",
                "        \n",
                "        return interaction_matrix, user2idx, item2idx, idx2user, idx2item\n",
                "    \n",
                "    # Preprocess the training data\n",
                "    interaction_matrix, user2idx, item2idx, idx2user, idx2item = preprocess_data(train)\n",
                "    \n",
                "    # For now, return basic recommendations using the old EASE approach\n",
                "    # This will be replaced in subsequent tasks\n",
                "    def filter_dataset(train):\n",
                "        train[rectools.Columns.Weight] = np.where(train['watched_pct'] > 10, 3, 1)\n",
                "        dataset_ease = rectools.dataset.Dataset.construct(train)\n",
                "        return dataset_ease\n",
                "    \n",
                "    dataset_ease = filter_dataset(train)\n",
                "    ease = rectools.models.EASEModel()\n",
                "    ease_model = ease.fit(dataset_ease)\n",
                "\n",
                "    ease_res = ease_model.recommend(\n",
                "        users=hot_users,\n",
                "        dataset=dataset_ease,\n",
                "        k=10,\n",
                "        filter_viewed=True,\n",
                "    )\n",
                "    \n",
                "    # ALS model training for candidate generation\n",
                "    def train_als_model(interaction_matrix):\n",
                "        # Configure ALS with specified parameters\n",
                "        als_model = implicit.als.AlternatingLeastSquares(\n",
                "            factors=64,\n",
                "            regularization=0.1,\n",
                "            iterations=15,\n",
                "            random_state=42,\n",
                "            num_threads=1  # Fix threading for reproducibility\n",
                "        )\n",
                "        \n",
                "        # Train the model\n",
                "        als_model.fit(interaction_matrix)\n",
                "        return als_model\n",
                "    \n",
                "    # Train ALS model\n",
                "    als_model = train_als_model(interaction_matrix)\n",
                "    \n",
                "    # Generate candidate recommendations for hot users\n",
                "    def generate_candidates(als_model, interaction_matrix, hot_users, user2idx, idx2item, n_candidates=50):\n",
                "        recommendations = []\n",
                "        \n",
                "        for user_id in hot_users:\n",
                "            if user_id not in user2idx:\n",
                "                continue  # Skip cold users\n",
                "                \n",
                "            user_idx = user2idx[user_id]\n",
                "            \n",
                "            # Get recommendations from ALS\n",
                "            try:\n",
                "                user_recs = als_model.recommend(\n",
                "                    user_idx, \n",
                "                    interaction_matrix.T.tocsr(),  # Transpose for user-item format\n",
                "                    N=n_candidates,\n",
                "                    filter_already_liked_items=True\n",
                "                )\n",
                "                \n",
                "                # Convert to our format (take top 10 for now)\n",
                "                for rank, (item_idx, score) in enumerate(user_recs[:10]):\n",
                "                    recommendations.append({\n",
                "                        'user_id': user_id,\n",
                "                        'item_id': idx2item[item_idx],\n",
                "                        'rank': rank\n",
                "                    })\n",
                "            except Exception:\n",
                "                # Skip users with no recommendations\n",
                "                continue\n",
                "                \n",
                "        return pd.DataFrame(recommendations)\n",
                "    \n",
                "    # ФИНАЛЬНЫЙ ЭТАП: Генерация топ-10 рекомендаций с ранжированием\n",
                "    # Результат: DataFrame с колонками user_id, item_id, rank (0-9)\n",
                "    # Ожидаемое качество: MAP@10 > 0.071 (значительное улучшение над EASE)\n",
                "    # Generate final recommendations\n",
                "    als_recommendations = generate_candidates(als_model, interaction_matrix, hot_users, user2idx, idx2item)\n",
                "    #  CODE END\n",
                "                "    \n",
                "    # ЭТАП 2: Извлечение признаков для ранжирования\n",
                "    def extract_features(als_model, user_indices, item_indices):\n",
                "        user_vecs = als_model.user_factors[user_indices]\n",
                "        item_vecs = als_model.item_factors[item_indices]\n",
                "        dot_product = np.sum(user_vecs * item_vecs, axis=1)\n",
                "        user_norm = np.linalg.norm(user_vecs, axis=1)\n",
                "        item_norm = np.linalg.norm(item_vecs, axis=1)\n",
                "        cosine_sim = np.divide(dot_product, user_norm * item_norm + 1e-8)\n",
                "        return pd.DataFrame({\n",
                "            'dot_product': dot_product.astype(np.float32),\n",
                "            'user_norm': user_norm.astype(np.float32),\n",
                "            'item_norm': item_norm.astype(np.float32),\n",
                "            'cosine_sim': cosine_sim.astype(np.float32)\n",
                "        })\n",
                "    \n",
                "    # ЭТАП 3: Создание данных для CatBoost\n",
                "    def create_ranking_data(train_df, als_model, user2idx, item2idx):\n",
                "        positives = train_df[['user_idx', 'item_idx']].drop_duplicates().copy()\n",
                "        positives['label'] = 1\n",
                "        negatives_list = []\n",
                "        for user_idx in positives['user_idx'].unique():\n",
                "            seen_items = set(positives[positives['user_idx'] == user_idx]['item_idx'])\n",
                "            try:\n",
                "                user_recs = als_model.recommend(user_idx, interaction_matrix.T.tocsr(), N=50, filter_already_liked_items=True)\n",
                "                for item_idx, _ in user_recs:\n",
                "                    if item_idx not in seen_items:\n",
                "                        negatives_list.append({'user_idx': user_idx, 'item_idx': item_idx, 'label': 0})\n",
                "            except Exception:\n",
                "                continue\n",
                "        negatives = pd.DataFrame(negatives_list)\n",
                "        ranking_data = pd.concat([positives, negatives], ignore_index=True)\n",
                "        features = extract_features(als_model, ranking_data['user_idx'].values, ranking_data['item_idx'].values)\n",
                "        return features, ranking_data['label'].values\n",
                "    \n",
                "    # ЭТАП 4: Обучение CatBoost\n",
                "    ranking_features, ranking_labels = create_ranking_data(train, als_model, user2idx, item2idx)\n",
                "    ranker = catboost.CatBoostClassifier(iterations=100, learning_rate=0.1, depth=6, random_seed=42, verbose=False)\n",
                "    scaler = sklearn.preprocessing.MinMaxScaler()\n",
                "    features_scaled = scaler.fit_transform(ranking_features)\n",
                "    ranker.fit(features_scaled, ranking_labels)\n",
                "    \n",
                "    # ЭТАП 5: Генерация рекомендаций с CatBoost ранжированием\n",
                "    def generate_ranked_recommendations(als_model, ranker, scaler, hot_users, user2idx, idx2item):\n",
                "        recommendations = []\n",
                "        for user_id in hot_users:\n",
                "            if user_id not in user2idx:\n",
                "                continue\n",
                "            user_idx = user2idx[user_id]\n",
                "            try:\n",
                "                user_recs = als_model.recommend(user_idx, interaction_matrix.T.tocsr(), N=100, filter_already_liked_items=True)\n",
                "                if len(user_recs) == 0:\n",
                "                    continue\n",
                "                candidate_items = [item_idx for item_idx, _ in user_recs]\n",
                "                user_indices = [user_idx] * len(candidate_items)\n",
                "                candidate_features = extract_features(als_model, user_indices, candidate_items)\n",
                "                candidate_features_scaled = scaler.transform(candidate_features)\n",
                "                ranking_scores = ranker.predict_proba(candidate_features_scaled)[:, 1]\n",
                "                sorted_indices = np.argsort(ranking_scores)[::-1][:10]\n",
                "                for rank, idx in enumerate(sorted_indices):\n",
                "                    item_idx = candidate_items[idx]\n",
                "                    recommendations.append({'user_id': user_id, 'item_id': idx2item[item_idx], 'rank': rank})\n",
                "            except Exception:\n",
                "                continue\n",
                "        return pd.DataFrame(recommendations)\n",
                "    \n",
                "    # Генерация финальных рекомендаций с полным пайплайном ALS + CatBoost\n",
                "    final_recommendations = generate_ranked_recommendations(als_model, ranker, scaler, hot_users, user2idx, idx2item)\n",
                "    #  CODE END\n",
                "    return final_recommendations\n"
            ]
        },
        {
            "cell_type": "code",
            "execution_count": 8,
            "id": "5e5101e4",
            "metadata": {},
            "outputs": [
                {
                    "name": "stdout",
                    "output_type": "stream",
                    "text": [
                        "Ваш MAP: 0.03321778223372767\n",
                        "Ваш итоговый балл: 0\n",
                        "CPU times: user 37.2 s, sys: 3.38 s, total: 40.5 s\n",
                        "Wall time: 41.4 s\n"
                    ]
                },
                {
                    "data": {
                        "text/plain": [
                            "0"
                        ]
                    },
                    "execution_count": 8,
                    "metadata": {},
                    "output_type": "execute_result"
                }
            ],
            "source": [
                "%%time\n",
                "\n",
                "recos = solution(train.copy(), users.copy(), items.copy())\n",
                "scorer(rectools.metrics.MAP(10).calc(recos, test))"
            ]
        }
    ],
    "metadata": {
        "kernelspec": {
            "display_name": "recsys_project_",
            "language": "python",
            "name": "python3"
        },
        "language_info": {
            "codemirror_mode": {
                "name": "ipython",
                "version": 3
            },
            "file_extension": ".py",
            "mimetype": "text/x-python",
            "name": "python",
            "nbconvert_exporter": "python",
            "pygments_lexer": "ipython3",
            "version": "3.13.0"
        },
        "widgets": {
            "application/vnd.jupyter.widget-state+json": {
                "state": {},
                "version_major": 2,
                "version_minor": 0
            }
        }
    },
    "nbformat": 4,
    "nbformat_minor": 5
}