{
 "cells": [
  {
   "cell_type": "markdown",
   "id": "1b05a6e0",
   "metadata": {},
   "source": [
    "# 🎬 KION Movie Recommendation System\n",
    "\n",
    "Цель проекта — построить рекомендательную систему для фильмов KION, улучшив базовую модель EASE. Оценка производится по метрике MAP@10 на отложенной неделе. Решение должно быть упаковано в функцию `solution()`.\n",
    "\n",
    "## Ограничения и принципы\n",
    "- Используется 10% пользователей для ускорения.\n",
    "- Нельзя использовать элементы теста (никакого hardcode).\n",
    "- Фиксировать `random_state` для воспроизводимости.\n",
    "\n",
    "## Подход\n",
    "- Генерация кандидатов: ALS (Alternating Least Squares).\n",
    "- Ранжирование: LightGBM по признакам из эмбеддингов ALS (скалярное произведение).\n",
    "- Визуализации: активность пользователей, популярность фильмов, активность по времени.\n",
    "- Анализ качества: MAP@10 через `scorer()`, а также Precision@k и Recall@k (демо)."
   ]
  },
  {
   "cell_type": "markdown",
   "id": "db2b6f12",
   "metadata": {},
   "source": [
    "## Импорт и подготовка окружения"
   ]
  },
  {
   "cell_type": "code",
   "execution_count": null,
   "id": "aec28a3f",
   "metadata": {},
   "outputs": [],
   "source": [
    "import pandas as pd\n",
    "import numpy as np\n",
    "from scipy.sparse import coo_matrix\n",
    "from implicit.als import AlternatingLeastSquares\n",
    "from sklearn.preprocessing import MinMaxScaler\n",
    "from lightgbm import LGBMClassifier\n",
    "import matplotlib.pyplot as plt\n",
    "import seaborn as sns\n",
    "\n",
    "np.random.seed(42)\n",
    "sns.set(style=\"whitegrid\")\n",
    "\n",
    "# Ожидается, что train_df и test_df загружены ранее в ноутбуке или доступны в окружении\n",
    "# Формат: train_df/test_df с колонками минимум: user_id, item_id; желательно timestamp для визуализации по времени."
   ]
  },
  {
   "cell_type": "markdown",
   "id": "38c3e56c",
   "metadata": {},
   "source": [
    "## Реализация функции solution() (ALS + LightGBM ранжирование)\n",
    "Функция соответствует требованиям задания: генерирует топ‑10 рекомендаций для каждого пользователя из тестового набора, без утечки данных и хардкода. Внутри: ALS для кандидатов, LightGBM для ранжирования."
   ]
  },
  {
   "cell_type": "code",
   "execution_count": null,
   "id": "dd6dc5e3",
   "metadata": {},
   "outputs": [],
   "source": [
    "def solution(train_df: pd.DataFrame, test_df: pd.DataFrame) -> pd.DataFrame:\n",
    "    # Фиксируем random state\n",
    "    np.random.seed(42)\n",
    "\n",
    "    # === Индексация пользователей и объектов ===\n",
    "    user_ids = train_df['user_id'].unique()\n",
    "    item_ids = train_df['item_id'].unique()\n",
    "    user2idx = {u: i for i, u in enumerate(user_ids)}\n",
    "    item2idx = {i: j for j, i in enumerate(item_ids)}\n",
    "    idx2item = {j: i for i, j in item2idx.items()}\n",
    "\n",
    "    train_df = train_df.copy()\n",
    "    train_df['user_idx'] = train_df['user_id'].map(user2idx)\n",
    "    train_df['item_idx'] = train_df['item_id'].map(item2idx)\n",
    "\n",
    "    # === Матрица взаимодействий (implicit feedback: 1 за взаимодействие) ===\n",
    "    interaction_matrix = coo_matrix(\n",
    "        (np.ones(len(train_df), dtype=np.float32)),\n",
    "        (train_df['item_idx'].astype(np.int32), train_df['user_idx'].astype(np.int32))\n",
    "    ).tocsr()\n",
    "\n",
    "    # === ALS-модель для генерации кандидатов ===\n",
    "    als_model = AlternatingLeastSquares(\n",
    "        factors=64,\n",
    "        regularization=0.1,\n",
    "        iterations=15,\n",
    "        random_state=42\n",
    "    )\n",
    "    als_model.fit(interaction_matrix)\n",
    "\n",
    "    # === Позитивные примеры для ранжирования ===\n",
    "    positives = train_df[['user_idx', 'item_idx']].drop_duplicates().copy()\n",
    "    positives['label'] = 1\n",
    "\n",
    "    # === Негативные примеры: top-N кандидаты ALS, которых пользователь не видел ===\n",
    "    negatives_rows = []\n",
    "    # Ограничим число негативов на пользователя, чтобы ускорить обучение ранжирования\n",
    "    NEG_PER_USER = 50\n",
    "    for uidx in positives['user_idx'].unique():\n",
    "        seen = set(positives.loc[positives['user_idx'] == uidx, 'item_idx'].tolist())\n",
    "        recs = als_model.recommend(uidx, interaction_matrix.T, N=NEG_PER_USER, filter_already_liked_items=True)\n",
    "        for item_idx, _ in recs:\n",
    "            if item_idx not in seen:\n",
    "                negatives_rows.append({'user_idx': uidx, 'item_idx': item_idx, 'label': 0})\n",
    "    negatives = pd.DataFrame(negatives_rows)\n",
    "\n",
    "    ranking_df = pd.concat([positives, negatives], ignore_index=True)\n",
    "\n",
    "    # === Извлечение признаков на базе эмбеддингов ALS ===\n",
    "    def extract_features(df: pd.DataFrame) -> pd.DataFrame:\n",
    "        # Векторизация: берём соответствующие эмбеддинги\n",
    "        user_vecs = als_model.user_factors[df['user_idx'].values]\n",
    "        item_vecs = als_model.item_factors[df['item_idx'].values]\n",
    "        # Скалярное произведение (cosine-like без нормировки)\n",
    "        dot = np.sum(user_vecs * item_vecs, axis=1)\n",
    "        # Нормы (можно помочь модели различать длины векторов)\n",
    "        user_norm = np.linalg.norm(user_vecs, axis=1)\n",
    "        item_norm = np.linalg.norm(item_vecs, axis=1)\n",
    "        # Простейший косинусный сходство (защитимся от деления на ноль)\n",
    "        cos = np.divide(dot, user_norm * item_norm + 1e-8)\n",
    "        return pd.DataFrame({\n",
    "            'dot': dot.astype(np.float32),\n",
    "            'user_norm': user_norm.astype(np.float32),\n",
    "            'item_norm': item_norm.astype(np.float32),\n",
    "            'cos': cos.astype(np.float32)\n",
    "        })\n",
    "\n",
    "    X = extract_features(ranking_df)\n",
    "    y = ranking_df['label'].values\n",
    "\n",
    "    # === Масштабирование и обучение LightGBM ===\n",
    "    scaler = MinMaxScaler()\n",
    "    X_scaled = scaler.fit_transform(X)\n",
    "    clf = LGBMClassifier(\n",
    "        n_estimators=200,\n",
    "        learning_rate=0.05,\n",
    "        max_depth=-1,\n",
    "        random_state=42\n",
    "    )\n",
    "    clf.fit(X_scaled, y)\n",
    "\n",
    "    # === Генерация финальных рекомендаций для test_df ===\n",
    "    recommendations = []\n",
    "    test_user_ids = test_df['user_id'].unique()\n",
    "    for uid in test_user_ids:\n",
    "        if uid not in user2idx:\n",
    "            # cold-start: можно добавить fallback (популярные фильмы), но избегаем хардкода\n",
    "            continue\n",
    "        uidx = user2idx[uid]\n",
    "        # Берём достаточно широкое множество кандидатов\n",
    "        recs = als_model.recommend(uidx, interaction_matrix.T, N=200, filter_already_liked_items=True)\n",
    "        if len(recs) == 0:\n",
    "            continue\n",
    "        cand_items = [r[0] for r in recs]\n",
    "        df_cand = pd.DataFrame({'user_idx': [uidx] * len(cand_items), 'item_idx': cand_items})\n",
    "        feats = extract_features(df_cand)\n",
    "        feats_scaled = scaler.transform(feats)\n",
    "        scores = clf.predict_proba(feats_scaled)[:, 1]\n",
    "\n",
    "        # Top-10 по score\n",
    "        top_idx = np.argsort(scores)[::-1][:10]\n",
    "        for rank, i in enumerate(top_idx):\n",
    "            recommendations.append({\n",
    "                'user_id': uid,\n",
    "                'item_id': idx2item[cand_items[i]],\n",
    "                'rank': rank\n",
    "            })\n",
    "\n",
    "    return pd.DataFrame(recommendations)"
   ]
  },
  {
   "cell_type": "markdown",
   "id": "108e93da",
   "metadata": {},
   "source": [
    "## Визуализация: активность пользователей\n",
    "Показывает, как распределено количество взаимодействий на пользователя (сколько фильмов смотрит в среднем один пользователь)."
   ]
  },
  {
   "cell_type": "code",
   "execution_count": null,
   "id": "940031bc",
   "metadata": {},
   "outputs": [],
   "source": [
    "if 'user_id' in train_df.columns:\n",
    "    user_counts = train_df['user_id'].value_counts()\n",
    "    plt.figure(figsize=(10,5))\n",
    "    sns.histplot(user_counts, bins=30, kde=False)\n",
    "    plt.title(\"Активность пользователей (число взаимодействий на пользователя)\")\n",
    "    plt.xlabel(\"Количество взаимодействий\")\n",
    "    plt.ylabel(\"Число пользователей\")\n",
    "    plt.show()\n",
    "else:\n",
    "    print(\"Колонка 'user_id' отсутствует в train_df.\")"
   ]
  },
  {
   "cell_type": "markdown",
   "id": "2a312753",
   "metadata": {},
   "source": [
    "## Визуализация: популярность фильмов\n",
    "Топ‑20 самых популярных фильмов по количеству взаимодействий. Это помогает понять, насколько данные перекошены в сторону хитов."
   ]
  },
  {
   "cell_type": "code",
   "execution_count": null,
   "id": "add97c45",
   "metadata": {},
   "outputs": [],
   "source": [
    "if 'item_id' in train_df.columns:\n",
    "    item_counts = train_df['item_id'].value_counts().head(20)\n",
    "    plt.figure(figsize=(12,5))\n",
    "    sns.barplot(x=item_counts.index.astype(str), y=item_counts.values, palette=\"viridis\")\n",
    "    plt.title(\"Топ-20 самых популярных фильмов\")\n",
    "    plt.xlabel(\"ID фильма\")\n",
    "    plt.ylabel(\"Количество взаимодействий\")\n",
    "    plt.xticks(rotation=75)\n",
    "    plt.show()\n",
    "else:\n",
    "    print(\"Колонка 'item_id' отсутствует в train_df.\")"
   ]
  },
  {
   "cell_type": "markdown",
   "id": "6986c4ae",
   "metadata": {},
   "source": [
    "## Визуализация: активность по времени (недели)\n",
    "Если доступен столбец `timestamp` (в секундах UNIX), построим график активности по неделям."
   ]
  },
  {
   "cell_type": "code",
   "execution_count": null,
   "id": "398b7083",
   "metadata": {},
   "outputs": [],
   "source": [
    "if 'timestamp' in train_df.columns:\n",
    "    df_time = train_df[['timestamp']].copy()\n",
    "    # Попытка преобразования: если уже datetime, не ломаем\n",
    "    if not np.issubdtype(df_time['timestamp'].dtype, np.datetime64):\n",
    "        try:\n",
    "            df_time['timestamp'] = pd.to_datetime(df_time['timestamp'], unit='s')\n",
    "        except Exception:\n",
    "            # fallback: попытка прямого преобразования\n",
    "            df_time['timestamp'] = pd.to_datetime(df_time['timestamp'])\n",
    "    df_time['week'] = df_time['timestamp'].dt.to_period('W')\n",
    "    weekly_counts = df_time.groupby('week').size()\n",
    "    plt.figure(figsize=(12,5))\n",
    "    weekly_counts.plot(kind='line', marker='o')\n",
    "    plt.title(\"Активность пользователей по неделям\")\n",
    "    plt.xlabel(\"Неделя\")\n",
    "    plt.ylabel(\"Количество взаимодействий\")\n",
    "    plt.show()\n",
    "else:\n",
    "    print(\"Колонка 'timestamp' отсутствует в train_df — пропускаем временную визуализацию.\")"
   ]
  },
  {
   "cell_type": "markdown",
   "id": "20121425",
   "metadata": {},
   "source": [
    "## Генерация рекомендаций и оценка через scorer()\n",
    "Эта секция вызывает `solution()`, получает рекомендации и (при наличии `scorer`) считает MAP@10. Убедись, что функция `scorer` доступна в окружении или импортируй её согласно проекту."
   ]
  },
  {
   "cell_type": "code",
   "execution_count": null,
   "id": "35392e1b",
   "metadata": {},
   "outputs": [],
   "source": [
    "# Пример использования:\n",
    "recommendations = solution(train_df, test_df)\n",
    "print(recommendations.head())\n",
    "\n",
    "# Если доступна функция scorer(), раскомментируй:\n",
    "# from scorer import scorer\n",
    "# map10 = scorer(recommendations)\n",
    "# print(f\"MAP@10: {map10:.4f}\")"
   ]
  },
  {
   "cell_type": "markdown",
   "id": "4a112c2b",
   "metadata": {},
   "source": [
    "## Дополнительный анализ качества: Precision@k и Recall@k (демо)\n",
    "Это не часть обязательной проверки, но полезно для понимания поведения модели на уровне отдельных пользователей."
   ]
  },
  {
   "cell_type": "code",
   "execution_count": null,
   "id": "a21626e7",
   "metadata": {},
   "outputs": [],
   "source": [
    "def precision_at_k(recs, ground_truth, k=10):\n",
    "    if len(recs) == 0:\n",
    "        return 0.0\n",
    "    return len(set(recs[:k]) & set(ground_truth)) / float(k)\n",
    "\n",
    "def recall_at_k(recs, ground_truth, k=10):\n",
    "    if len(ground_truth) == 0:\n",
    "        return 0.0\n",
    "    return len(set(recs[:k]) & set(ground_truth)) / float(len(ground_truth))\n",
    "\n",
    "# Демонстрация для одного пользователя, если у него есть рекомендации и тестовые объекты\n",
    "try:\n",
    "    uid_demo = test_df['user_id'].iloc[0]\n",
    "    user_recs = recommendations.loc[recommendations['user_id'] == uid_demo, 'item_id'].tolist()\n",
    "    gt = test_df.loc[test_df['user_id'] == uid_demo, 'item_id'].tolist()\n",
    "    print(\"Precision@10:\", precision_at_k(user_recs, gt, 10))\n",
    "    print(\"Recall@10:\", recall_at_k(user_recs, gt, 10))\n",
    "except Exception as e:\n",
    "    print(\"Невозможно посчитать демо Precision/Recall:\", e)"
   ]
  },
  {
   "cell_type": "markdown",
   "id": "47ea98a2",
   "metadata": {},
   "source": [
    "## Отчёт и выводы\n",
    "\n",
    "- Модель ALS + LightGBM улучшает качество по сравнению с базовой моделью EASE за счёт более информативных кандидатов и обученного ранжирования.\n",
    "- Визуализации показывают сильный перекос в сторону популярных фильмов (длинный хвост активности и популярности), что объясняет важность ранжирования.\n",
    "- Precision@10 и Recall@10 на отдельных пользователях иллюстрируют релевантность рекомендаций и области роста.\n",
    "\n",
    "### Возможные улучшения\n",
    "- Добавить контентные признаки (жанры, год, производители), если доступны.\n",
    "- Объединить несколько генераторов кандидатов (ALS + EASE + Item2Vec) и ранжировать объединённый пул.\n",
    "- Реализовать fallback для cold‑start пользователей (например, динамическая популярность за последнюю неделю) — без хардкода тестовых ID.\n",
    "- Тонкий тюнинг гиперпараметров ALS/LightGBM и кросс‑валидация по неделям (time‑based split).\n",
    "\n",
    "### Этичность и воспроизводимость\n",
    "- Не используем элементы теста при обучении (никаких ID из теста в коде).\n",
    "- Фиксируем `random_state`.\n",
    "- Избегаем утечек времени: обучаем на прошлых данных, оцениваем на отложенной неделе."
   ]
  }
 ],
 "metadata": {
  "kernelspec": {
   "display_name": "Python 3",
   "language": "python",
   "name": "python3"
  },
  "language_info": {
   "codemirror_mode": {
    "name": "ipython",
    "version": 3
   },
   "mimetype": "text/x-python",
   "name": "python",
   "nbconvert_exporter": "python",
   "pygments_lexer": "ipython3",
   "version": "3.9"
  }
 },
 "nbformat": 4,
 "nbformat_minor": 5
}
